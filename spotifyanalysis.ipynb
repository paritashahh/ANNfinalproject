{
 "cells": [
  {
   "cell_type": "code",
   "execution_count": null,
   "metadata": {},
   "outputs": [],
   "source": [
    "import spotipy\n",
    "import json\n",
    "from spotipy.oauth2 import SpotifyClientCredentials\n",
    "from cleantext import clean\n",
    "import nltk \n",
    "from nltk.corpus import stopwords\n",
    "from nltk.tokenize import word_tokenize\n",
    "import emoji\n",
    "import random\n",
    "\n",
    "spotify = spotipy.Spotify(client_credentials_manager=SpotifyClientCredentials())\n",
    "\n",
    "# randomly select 10 numbers from 1 to 1000\n",
    "# these will be used to select 10 random data slices of playlist datasets to analyze\n",
    "# provide with seed to replicate results\n",
    "random.seed(1)\n",
    "random_numbers = random.sample(range(1, 1000), 10)\n",
    "print(random_numbers)\n",
    "# [138!!, 583!!, 868!!, 822!!, 783!!, 65!!, 262!!, 121!!, 508!!, 780!!]\n",
    "\n",
    "def clean_text(text):\n",
    "    text = clean(text, no_line_breaks=True, no_urls=True, no_punct=True, no_digits=True, replace_with_punct=\"\", replace_with_digit=\"\")\n",
    "    text = emoji.replace_emoji(text, replace='')\n",
    "    text = text.strip()\n",
    "    text = text.replace('~', '')\n",
    "    text = text.replace('_', '')\n",
    "    text_tokens = word_tokenize(text)\n",
    "    cleaned_tokens = [w for w in text_tokens if not w in stopwords.words('english')]\n",
    "    text = (\" \").join(cleaned_tokens)\n",
    "    if len(text) < 3:\n",
    "        return \"\"\n",
    "    return text\n",
    "\n",
    "song_dict = {}\n",
    "# compile all playlists and songs from the 10 random data slices into a single dictionary\n",
    "for i in range(1, 11):\n",
    "    with open('slice' + str(i) + '.json') as f:\n",
    "        data = json.load(f)\n",
    "        for playlist in data['playlists']:\n",
    "            playlist_name = clean_text(playlist['name'])\n",
    "            for track in playlist['tracks']:\n",
    "                track_uri = track['track_uri'][14:]\n",
    "                if len(playlist_name) > 0:\n",
    "                    if track_uri not in song_dict:\n",
    "                        song_dict[track_uri] = [playlist_name]\n",
    "                    else:\n",
    "                        song_dict[track_uri].append(playlist_name)"
   ]
  },
  {
   "cell_type": "code",
   "execution_count": null,
   "metadata": {},
   "outputs": [],
   "source": [
    "# print(song_dict)\n",
    "\n",
    "# convert dictionary into pandas dataframe, where each row is a song and each column is a playlist, with 1 indicating the song is in the playlist and 0 indicating it is not\n",
    "import pandas as pd\n",
    "df = pd.DataFrame.from_dict(song_dict, orient='index')\n",
    "\n",
    "print(df)\n",
    "\n",
    "# for each song, get the audio features from spotify\n",
    "\n",
    "# for song in song_dict:\n",
    "#     print(song)\n",
    "#     print(spotify.audio_features(song))\n"
   ]
  }
 ],
 "metadata": {
  "language_info": {
   "name": "python"
  },
  "orig_nbformat": 4
 },
 "nbformat": 4,
 "nbformat_minor": 2
}
